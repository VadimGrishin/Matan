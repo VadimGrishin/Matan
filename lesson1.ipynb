{
 "cells": [
  {
   "cell_type": "markdown",
   "metadata": {},
   "source": [
    "### 1 Как относятся друг к другу множество и последовательность?"
   ]
  },
  {
   "cell_type": "markdown",
   "metadata": {},
   "source": [
    "Последовательность объектов - пронумерованная совокупность объектов. Более точно: последовательность есть отображение множества натуральных чисел в множество объектов."
   ]
  },
  {
   "cell_type": "markdown",
   "metadata": {},
   "source": [
    "### 2 Прочитать высказывания математической логики, построить их отрицания и *установить истинность."
   ]
  },
  {
   "cell_type": "code",
   "execution_count": null,
   "metadata": {},
   "outputs": [],
   "source": [
    "первое выражение: для любого y принадлежащего отрезку от 0 до 1 выражение sgn от y равно 1\n",
    "отрицание: существует y из отрезка от 0 до 1 такой, что sgn(y) не равен 1"
    "верно отрицание, поскольку sign(0)=0"
   ]
  },
  {
   "cell_type": "markdown",
   "metadata": {},
   "source": [
    "последнее выражение: существует x не являющийся ни натуральным, ни целым, ни рациональным, ни действительным, ни комплексным числом\n",
    "отрицание: для любого x верно, что x является числом одного из перечисленных типов"
    "верно исходное выражение, поскольку объект - не обязательно число"
   ]
  },
  {
   "cell_type": "markdown",
   "metadata": {},
   "source": [
    "### 1. Даны три множества a,b и с. Необходимо выполнить все изученные виды бинарных операций над всеми комбинациями множеств.\n",
    "\n",
    "### 2.   *Выполнить задание 1 на языке Python\n"
   ]
  },
  {
   "cell_type": "code",
   "execution_count": 1,
   "metadata": {},
   "outputs": [],
   "source": [
    "a = {1, 2, 3}\n",
    "b = {4, 5, 6}\n",
    "c = {45}"
   ]
  },
  {
   "cell_type": "code",
   "execution_count": 3,
   "metadata": {},
   "outputs": [],
   "source": [
    "import itertools as it"
   ]
  },
  {
   "cell_type": "code",
   "execution_count": 6,
   "metadata": {},
   "outputs": [
    {
     "data": {
      "text/plain": [
       "{(1, 4, 45),\n",
       " (1, 5, 45),\n",
       " (1, 6, 45),\n",
       " (2, 4, 45),\n",
       " (2, 5, 45),\n",
       " (2, 6, 45),\n",
       " (3, 4, 45),\n",
       " (3, 5, 45),\n",
       " (3, 6, 45)}"
      ]
     },
     "execution_count": 6,
     "metadata": {},
     "output_type": "execute_result"
    }
   ],
   "source": [
    "set(it.product(a, b, c)) # это декартово произведение"
   ]
  },
  {
   "cell_type": "code",
   "execution_count": 7,
   "metadata": {},
   "outputs": [
    {
     "data": {
      "text/plain": [
       "{1, 2, 3, 4, 5, 6}"
      ]
     },
     "execution_count": 7,
     "metadata": {},
     "output_type": "execute_result"
    }
   ],
   "source": [
    "a.union(b) # объединение"
   ]
  },
  {
   "cell_type": "code",
   "execution_count": 8,
   "metadata": {},
   "outputs": [
    {
     "data": {
      "text/plain": [
       "set()"
      ]
     },
     "execution_count": 8,
     "metadata": {},
     "output_type": "execute_result"
    }
   ],
   "source": [
    "b.intersection(a) # пересечение"
   ]
  },
  {
   "cell_type": "code",
   "execution_count": 9,
   "metadata": {},
   "outputs": [
    {
     "data": {
      "text/plain": [
       "{1, 2, 3}"
      ]
     },
     "execution_count": 9,
     "metadata": {},
     "output_type": "execute_result"
    }
   ],
   "source": [
    "a.difference(b) # разность"
   ]
  },
  {
   "cell_type": "code",
   "execution_count": 10,
   "metadata": {},
   "outputs": [
    {
     "data": {
      "text/plain": [
       "{1, 2, 3, 45}"
      ]
     },
     "execution_count": 10,
     "metadata": {},
     "output_type": "execute_result"
    }
   ],
   "source": [
    "a.symmetric_difference(c) # симметрическая разность"
   ]
  },
  {
   "cell_type": "markdown",
   "metadata": {},
   "source": [
    "собственно, хватит"
   ]
  },
  {
   "cell_type": "markdown",
   "metadata": {},
   "source": [
    "### Даны 4 последовательности.\n",
    "\n",
    "### Необходимо:\n",
    "### 1) исследовать их на монотонность; \n",
    "### 2) исследовать на ограниченность;\n",
    "### 3) найти пятый по счету член."
   ]
  },
  {
   "cell_type": "markdown",
   "metadata": {},
   "source": [
    "первая:\n",
    "1) монотонно возрастает\n",
    "2) неограничена сверху\n",
    "3) а5 = 27"
   ]
  },
  {
   "cell_type": "markdown",
   "metadata": {},
   "source": [
    "вторая:\n",
    "1) монотонно возрастает\n",
    "2) ограничена\n",
    "3) b5 = -0.2"
   ]
  },
  {
   "cell_type": "markdown",
   "metadata": {},
   "source": [
    "третья:\n",
    "1) не является монотонной\n",
    "2) неограничена сверху\n",
    "3) c5 = sqrt(10) - 1"
   ]
  },
  {
   "cell_type": "markdown",
   "metadata": {},
   "source": [
    "четвертая:\n",
    "1) монотонно убывает\n",
    "2) ограничена\n",
    "3) d5 = 1 + 1/25 = 1.04"
   ]
  },
  {
   "cell_type": "markdown",
   "metadata": {},
   "source": [
    "### Задание 4"
   ]
  },
  {
   "cell_type": "markdown",
   "metadata": {},
   "source": [
    "a12 = a1 + 6*11 = 128 + 66 = 194"
   ]
  },
  {
   "cell_type": "code",
   "execution_count": null,
   "metadata": {},
   "outputs": [],
   "source": []
  },
  {
   "cell_type": "markdown",
   "metadata": {},
   "source": [
    "исправьте пжл в видео 0:32:40 и 0:37:40 множество рациональных чисел имеет счетную мощность, а не континуум. Их можно пересчитать"
   ]
  },
  {
   "cell_type": "markdown",
   "metadata": {},
   "source": [
    "### 5)  *На языке Python предложить алгоритм вычисляющий численно предел lim n / n!^(1/n), n->oo  с точностью 10**-7\n"
   ]
  },
  {
   "cell_type": "code",
   "execution_count": 13,
   "metadata": {},
   "outputs": [
    {
     "name": "stdout",
     "output_type": "stream",
     "text": [
      "2.7182791095042833\n",
      "2.7182804705526538\n",
      "2.718280921296734\n",
      "2.7182811466688306\n",
      "2.718281285160862\n",
      "2.7182813823633527\n",
      "2.7182814356956957\n",
      "2.7182814941892355\n",
      "2.7182815199952097\n",
      "2.718281559564371\n",
      "2.7182815870907446\n",
      "2.718281609455924\n",
      "2.7182816128967207\n",
      "2.7182816438638926\n",
      "2.7182816576270805\n",
      "2.718281664508674\n",
      "2.7182816851534564\n",
      "2.718281671390268\n",
      "2.718281671390268\n",
      "2.718281667949471\n",
      "\n"
     ]
    },
    {
     "data": {
      "text/plain": [
       "(2.718281667949471, 10000000)"
      ]
     },
     "execution_count": 13,
     "metadata": {},
     "output_type": "execute_result"
    }
   ],
   "source": [
    "# Используем лемму Штольца и оцениваем последовательность 1 / [n!^(1/n) - (n-1)!^(1/(n-1))]\n",
    "n = 1\n",
    "s2 = 1\n",
    "for i in range(10**7-1):\n",
    "    s = s2\n",
    "    n += 1\n",
    "    s2 = n**(1/n) * s**((n-1)/n)\n",
    "    if n%(5*10**5) == 0:\n",
    "        print(1/(s2 - s))\n",
    "print()\n",
    "1/(s2 - s), n\n",
    "    "
   ]
  },
  {
   "cell_type": "code",
   "execution_count": null,
   "metadata": {},
   "outputs": [],
   "source": []
  },
  {
   "cell_type": "code",
   "execution_count": null,
   "metadata": {},
   "outputs": [],
   "source": []
  },
  {
   "cell_type": "code",
   "execution_count": null,
   "metadata": {},
   "outputs": [],
   "source": []
  }
 ],
 "metadata": {
  "kernelspec": {
   "display_name": "Python 3",
   "language": "python",
   "name": "python3"
  },
  "language_info": {
   "codemirror_mode": {
    "name": "ipython",
    "version": 3
   },
   "file_extension": ".py",
   "mimetype": "text/x-python",
   "name": "python",
   "nbconvert_exporter": "python",
   "pygments_lexer": "ipython3",
   "version": "3.7.1"
  }
 },
 "nbformat": 4,
 "nbformat_minor": 2
}
